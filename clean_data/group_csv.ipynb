{
 "cells": [
  {
   "cell_type": "code",
   "execution_count": 1,
   "metadata": {},
   "outputs": [],
   "source": [
    "import pandas as pd"
   ]
  },
  {
   "cell_type": "code",
   "execution_count": 62,
   "metadata": {},
   "outputs": [],
   "source": [
    "data08 = pd.read_csv('death_data/2010_data.csv')"
   ]
  },
  {
   "cell_type": "code",
   "execution_count": 63,
   "metadata": {},
   "outputs": [
    {
     "data": {
      "text/plain": [
       "Index(['resident_status', 'education_1989_revision', 'education_2003_revision',\n",
       "       'education_reporting_flag', 'month_of_death', 'sex', 'detail_age_type',\n",
       "       'detail_age', 'age_substitution_flag', 'age_recode_52', 'age_recode_27',\n",
       "       'age_recode_12', 'infant_age_recode_22',\n",
       "       'place_of_death_and_decedents_status', 'marital_status',\n",
       "       'day_of_week_of_death', 'current_data_year', 'injury_at_work',\n",
       "       'manner_of_death', 'method_of_disposition', 'autopsy', 'activity_code',\n",
       "       'place_of_injury_for_causes_w00_y34_except_y06_and_y07_',\n",
       "       'icd_code_10th_revision', '358_cause_recode', '113_cause_recode',\n",
       "       '130_infant_cause_recode', '39_cause_recode',\n",
       "       'number_of_entity_axis_conditions', 'entity_condition_1',\n",
       "       'entity_condition_2', 'entity_condition_3', 'entity_condition_4',\n",
       "       'entity_condition_5', 'entity_condition_6', 'entity_condition_7',\n",
       "       'entity_condition_8', 'entity_condition_9', 'entity_condition_10',\n",
       "       'entity_condition_11', 'entity_condition_12', 'entity_condition_13',\n",
       "       'entity_condition_14', 'entity_condition_15', 'entity_condition_16',\n",
       "       'entity_condition_17', 'entity_condition_18', 'entity_condition_19',\n",
       "       'entity_condition_20', 'number_of_record_axis_conditions',\n",
       "       'record_condition_1', 'record_condition_2', 'record_condition_3',\n",
       "       'record_condition_4', 'record_condition_5', 'record_condition_6',\n",
       "       'record_condition_7', 'record_condition_8', 'record_condition_9',\n",
       "       'record_condition_10', 'record_condition_11', 'record_condition_12',\n",
       "       'record_condition_13', 'record_condition_14', 'record_condition_15',\n",
       "       'record_condition_16', 'record_condition_17', 'record_condition_18',\n",
       "       'record_condition_19', 'record_condition_20', 'race',\n",
       "       'bridged_race_flag', 'race_imputation_flag', 'race_recode_3',\n",
       "       'race_recode_5', 'hispanic_origin', 'hispanic_originrace_recode'],\n",
       "      dtype='object')"
      ]
     },
     "execution_count": 63,
     "metadata": {},
     "output_type": "execute_result"
    }
   ],
   "source": [
    "data08.columns"
   ]
  },
  {
   "cell_type": "code",
   "execution_count": 64,
   "metadata": {},
   "outputs": [],
   "source": [
    "final_df = data08.loc[data18['358_cause_recode']==266]"
   ]
  },
  {
   "cell_type": "code",
   "execution_count": 66,
   "metadata": {},
   "outputs": [],
   "source": [
    "data08group = data08.groupby(['358_cause_recode']).count()"
   ]
  },
  {
   "cell_type": "code",
   "execution_count": 67,
   "metadata": {},
   "outputs": [],
   "source": [
    "finalcsv = pd.DataFrame(data08group)"
   ]
  },
  {
   "cell_type": "code",
   "execution_count": 68,
   "metadata": {},
   "outputs": [],
   "source": [
    "finalcsv.to_csv('final2008.csv')"
   ]
  },
  {
   "cell_type": "code",
   "execution_count": null,
   "metadata": {},
   "outputs": [],
   "source": []
  }
 ],
 "metadata": {
  "kernelspec": {
   "display_name": "Python 3",
   "language": "python",
   "name": "python3"
  },
  "language_info": {
   "codemirror_mode": {
    "name": "ipython",
    "version": 3
   },
   "file_extension": ".py",
   "mimetype": "text/x-python",
   "name": "python",
   "nbconvert_exporter": "python",
   "pygments_lexer": "ipython3",
   "version": "3.7.3"
  }
 },
 "nbformat": 4,
 "nbformat_minor": 2
}
